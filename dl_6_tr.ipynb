{
 "cells": [
  {
   "cell_type": "code",
   "execution_count": 1,
   "id": "8a585dc5-2992-424a-a551-bd62528486d2",
   "metadata": {},
   "outputs": [],
   "source": [
    "import os\n",
    "import numpy as np\n",
    "import matplotlib.pyplot as plt\n",
    "from tensorflow.keras.preprocessing.image import ImageDataGenerator\n",
    "from tensorflow.keras.applications.vgg16 import VGG16, preprocess_input\n",
    "from tensorflow.keras.models import Model\n",
    "from tensorflow.keras.layers import Dense, Flatten, Dropout\n",
    "from tensorflow.keras.optimizers import Adam\n",
    "from tensorflow.keras.callbacks import EarlyStopping\n"
   ]
  },
  {
   "cell_type": "code",
   "execution_count": 2,
   "id": "84c2133b-5048-4b91-b0a8-9fa09d601ebb",
   "metadata": {},
   "outputs": [],
   "source": [
    "\n",
    "# Set image size and paths\n",
    "img_width, img_height = 224, 224\n",
    "train_dir = r\"D:\\Deep learning\\Panda_bear_data_set\\PandasBears\\Test\"\n",
    "val_dir = r\"D:\\Deep learning\\Panda_bear_data_set\\PandasBears\\Train\"\n",
    "num_classes = 2  # Change this to 10 if you have 10 dog breeds"
   ]
  },
  {
   "cell_type": "code",
   "execution_count": 3,
   "id": "9c6aed32-1709-4319-b6a1-f20d922ee4a0",
   "metadata": {},
   "outputs": [],
   "source": [
    "# Data preprocessing\n",
    "train_datagen = ImageDataGenerator(preprocessing_function=preprocess_input)\n",
    "val_datagen = ImageDataGenerator(preprocessing_function=preprocess_input)"
   ]
  },
  {
   "cell_type": "code",
   "execution_count": 4,
   "id": "8132a593-7698-444c-9c26-1c090821f0ba",
   "metadata": {},
   "outputs": [
    {
     "name": "stdout",
     "output_type": "stream",
     "text": [
      "Found 100 images belonging to 2 classes.\n"
     ]
    },
    {
     "name": "stdout",
     "output_type": "stream",
     "text": [
      "Found 500 images belonging to 2 classes.\n"
     ]
    }
   ],
   "source": [
    "train_generator = train_datagen.flow_from_directory(\n",
    "    train_dir,\n",
    "    target_size=(img_width, img_height),\n",
    "    batch_size=32,\n",
    "    class_mode='categorical' \n",
    ")\n",
    "\n",
    "val_generator = val_datagen.flow_from_directory(\n",
    "    val_dir,\n",
    "    target_size=(img_width, img_height),\n",
    "    batch_size=32,\n",
    "    class_mode='categorical' \n",
    ")"
   ]
  },
  {
   "cell_type": "code",
   "execution_count": 5,
   "id": "482c116a-5fcf-4e04-9de2-70a8a2ce5863",
   "metadata": {},
   "outputs": [],
   "source": [
    "\n",
    "# Load pre-trained VGG16 without the top classification layers\n",
    "base_model = VGG16(weights='imagenet', include_top=False, input_shape=(img_width, img_height, 3))\n",
    "base_model.trainable = False"
   ]
  },
  {
   "cell_type": "code",
   "execution_count": 6,
   "id": "9e1f35f8-c91a-4b26-a62b-34a5edd9bdb3",
   "metadata": {},
   "outputs": [],
   "source": [
    "\n",
    "# Add custom top layers\n",
    "x = Flatten()(base_model.output)\n",
    "x = Dense(256, activation='relu')(x)\n",
    "x = Dropout(0.5)(x)\n",
    "output_layer = Dense(num_classes, activation='softmax' if num_classes > 2 else 'sigmoid')(x)"
   ]
  },
  {
   "cell_type": "code",
   "execution_count": 7,
   "id": "4536fac2-f97c-4acc-bf2b-c6e3a804d974",
   "metadata": {},
   "outputs": [
    {
     "name": "stdout",
     "output_type": "stream",
     "text": [
      "Model: \"model\"\n",
      "_________________________________________________________________\n",
      " Layer (type)                Output Shape              Param #   \n",
      "=================================================================\n",
      " input_1 (InputLayer)        [(None, 224, 224, 3)]     0         \n",
      "                                                                 \n",
      " block1_conv1 (Conv2D)       (None, 224, 224, 64)      1792      \n",
      "                                                                 \n",
      " block1_conv2 (Conv2D)       (None, 224, 224, 64)      36928     \n",
      "                                                                 \n",
      " block1_pool (MaxPooling2D)  (None, 112, 112, 64)      0         \n",
      "                                                                 \n",
      " block2_conv1 (Conv2D)       (None, 112, 112, 128)     73856     \n",
      "                                                                 \n",
      " block2_conv2 (Conv2D)       (None, 112, 112, 128)     147584    \n",
      "                                                                 \n",
      " block2_pool (MaxPooling2D)  (None, 56, 56, 128)       0         \n",
      "                                                                 \n",
      " block3_conv1 (Conv2D)       (None, 56, 56, 256)       295168    \n",
      "                                                                 \n",
      " block3_conv2 (Conv2D)       (None, 56, 56, 256)       590080    \n",
      "                                                                 \n",
      " block3_conv3 (Conv2D)       (None, 56, 56, 256)       590080    \n",
      "                                                                 \n",
      " block3_pool (MaxPooling2D)  (None, 28, 28, 256)       0         \n",
      "                                                                 \n",
      " block4_conv1 (Conv2D)       (None, 28, 28, 512)       1180160   \n",
      "                                                                 \n",
      " block4_conv2 (Conv2D)       (None, 28, 28, 512)       2359808   \n",
      "                                                                 \n",
      " block4_conv3 (Conv2D)       (None, 28, 28, 512)       2359808   \n",
      "                                                                 \n",
      " block4_pool (MaxPooling2D)  (None, 14, 14, 512)       0         \n",
      "                                                                 \n",
      " block5_conv1 (Conv2D)       (None, 14, 14, 512)       2359808   \n",
      "                                                                 \n",
      " block5_conv2 (Conv2D)       (None, 14, 14, 512)       2359808   \n",
      "                                                                 \n",
      " block5_conv3 (Conv2D)       (None, 14, 14, 512)       2359808   \n",
      "                                                                 \n",
      " block5_pool (MaxPooling2D)  (None, 7, 7, 512)         0         \n",
      "                                                                 \n",
      " flatten (Flatten)           (None, 25088)             0         \n",
      "                                                                 \n",
      " dense (Dense)               (None, 256)               6422784   \n",
      "                                                                 \n",
      " dropout (Dropout)           (None, 256)               0         \n",
      "                                                                 \n",
      " dense_1 (Dense)             (None, 2)                 514       \n",
      "                                                                 \n",
      "=================================================================\n",
      "Total params: 21,137,986\n",
      "Trainable params: 6,423,298\n",
      "Non-trainable params: 14,714,688\n",
      "_________________________________________________________________\n"
     ]
    }
   ],
   "source": [
    "# Build full model\n",
    "model = Model(inputs=base_model.input, outputs=output_layer)\n",
    "model.summary()\n",
    "\n",
    "# Compile the model\n",
    "model.compile(optimizer=Adam(learning_rate=0.0001),\n",
    "              loss='categorical_crossentropy',\n",
    "              metrics=['accuracy'])"
   ]
  },
  {
   "cell_type": "code",
   "execution_count": 8,
   "id": "5780f247-6d0a-4b9e-84ef-29d1b784e95a",
   "metadata": {},
   "outputs": [
    {
     "name": "stdout",
     "output_type": "stream",
     "text": [
      "Epoch 1/10\n",
      "4/4 [==============================] - 69s 17s/step - loss: 4.6985 - accuracy: 0.8400 - val_loss: 0.2301 - val_accuracy: 0.9940\n",
      "Epoch 2/10\n",
      "4/4 [==============================] - 14s 4s/step - loss: 0.0000e+00 - accuracy: 1.0000 - val_loss: 0.1275 - val_accuracy: 0.9980\n",
      "Epoch 3/10\n",
      "4/4 [==============================] - 13s 4s/step - loss: 0.0000e+00 - accuracy: 1.0000 - val_loss: 0.1043 - val_accuracy: 0.9980\n",
      "Epoch 4/10\n",
      "4/4 [==============================] - 13s 4s/step - loss: 0.0000e+00 - accuracy: 1.0000 - val_loss: 0.0860 - val_accuracy: 0.9980\n",
      "Epoch 5/10\n",
      "4/4 [==============================] - 13s 4s/step - loss: 0.0000e+00 - accuracy: 1.0000 - val_loss: 0.0727 - val_accuracy: 0.9980\n",
      "Epoch 6/10\n",
      "4/4 [==============================] - 13s 4s/step - loss: 0.0000e+00 - accuracy: 1.0000 - val_loss: 0.0642 - val_accuracy: 0.9980\n",
      "Epoch 7/10\n",
      "4/4 [==============================] - 13s 4s/step - loss: 0.0000e+00 - accuracy: 1.0000 - val_loss: 0.0588 - val_accuracy: 0.9980\n",
      "Epoch 8/10\n",
      "4/4 [==============================] - 13s 4s/step - loss: 0.0000e+00 - accuracy: 1.0000 - val_loss: 0.0551 - val_accuracy: 0.9980\n",
      "Epoch 9/10\n",
      "4/4 [==============================] - 13s 4s/step - loss: 0.0000e+00 - accuracy: 1.0000 - val_loss: 0.0525 - val_accuracy: 0.9980\n",
      "Epoch 10/10\n",
      "4/4 [==============================] - 13s 4s/step - loss: 0.0000e+00 - accuracy: 1.0000 - val_loss: 0.0507 - val_accuracy: 0.9980\n"
     ]
    }
   ],
   "source": [
    "history = model.fit(\n",
    "    train_generator,\n",
    "    validation_data=val_generator,\n",
    "    epochs=10,\n",
    "    callbacks=[EarlyStopping(patience=3, restore_best_weights=True)]\n",
    ")\n"
   ]
  },
  {
   "cell_type": "code",
   "execution_count": 9,
   "id": "201f64a8-1b56-499b-bf17-19c9812559de",
   "metadata": {},
   "outputs": [
    {
     "name": "stdout",
     "output_type": "stream",
     "text": [
      "16/16 [==============================] - 11s 671ms/step - loss: 0.0507 - accuracy: 0.9980\n",
      "Validation Accuracy: 99.80%\n"
     ]
    }
   ],
   "source": [
    "loss, accuracy = model.evaluate(val_generator)\n",
    "print(f'Validation Accuracy: {accuracy * 100:.2f}%')"
   ]
  },
  {
   "cell_type": "markdown",
   "id": "853d12d3-988e-493e-9b68-ec173baba518",
   "metadata": {},
   "source": []
  },
  {
   "cell_type": "markdown",
   "id": "0e1bb79c",
   "metadata": {},
   "source": []
  },
  {
   "cell_type": "markdown",
   "id": "037a29f0",
   "metadata": {},
   "source": []
  }
 ],
 "metadata": {
  "kernelspec": {
   "display_name": "Python (dl_env)",
   "language": "python",
   "name": "dl_env"
  },
  "language_info": {
   "codemirror_mode": {
    "name": "ipython",
    "version": 3
   },
   "file_extension": ".py",
   "mimetype": "text/x-python",
   "name": "python",
   "nbconvert_exporter": "python",
   "pygments_lexer": "ipython3",
   "version": "3.9.13"
  }
 },
 "nbformat": 4,
 "nbformat_minor": 5
}
