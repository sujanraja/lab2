{
 "cells": [
  {
   "cell_type": "code",
   "execution_count": 1,
   "id": "3d2c66e6",
   "metadata": {},
   "outputs": [],
   "source": [
    "import tensorflow as tf\n",
    "from tensorflow.keras import layers, models, Input\n",
    "import numpy as np\n",
    "import matplotlib.pyplot as plt"
   ]
  },
  {
   "cell_type": "code",
   "execution_count": 2,
   "id": "07c462a1",
   "metadata": {},
   "outputs": [],
   "source": [
    "(x_train, _), (x_test, _) = tf.keras.datasets.mnist.load_data()\n",
    "x_train = x_train.astype(\"float32\") / 255.0\n",
    "x_test = x_test.astype(\"float32\") / 255.0\n",
    "x_train = np.expand_dims(x_train, -1)\n",
    "x_test = np.expand_dims(x_test, -1)\n",
    "\n",
    "y_train = (x_train > 0.5).astype(\"float32\")\n",
    "y_test = (x_test > 0.5).astype(\"float32\")"
   ]
  },
  {
   "cell_type": "code",
   "execution_count": 3,
   "id": "f49e6a49",
   "metadata": {},
   "outputs": [
    {
     "name": "stdout",
     "output_type": "stream",
     "text": [
      "Model: \"model\"\n",
      "_________________________________________________________________\n",
      " Layer (type)                Output Shape              Param #   \n",
      "=================================================================\n",
      " input_1 (InputLayer)        [(None, 28, 28, 1)]       0         \n",
      "                                                                 \n",
      " conv2d (Conv2D)             (None, 28, 28, 32)        320       \n",
      "                                                                 \n",
      " max_pooling2d (MaxPooling2D  (None, 14, 14, 32)       0         \n",
      " )                                                               \n",
      "                                                                 \n",
      " reshape (Reshape)           (None, 14, 448)           0         \n",
      "                                                                 \n",
      " gru (GRU)                   (None, 14, 128)           221952    \n",
      "                                                                 \n",
      " reshape_1 (Reshape)         (None, 14, 16, 8)         0         \n",
      "                                                                 \n",
      " up_sampling2d (UpSampling2D  (None, 28, 32, 8)        0         \n",
      " )                                                               \n",
      "                                                                 \n",
      " conv2d_1 (Conv2D)           (None, 28, 32, 16)        1168      \n",
      "                                                                 \n",
      " conv2d_2 (Conv2D)           (None, 28, 32, 1)         145       \n",
      "                                                                 \n",
      " cropping2d (Cropping2D)     (None, 28, 28, 1)         0         \n",
      "                                                                 \n",
      "=================================================================\n",
      "Total params: 223,585\n",
      "Trainable params: 223,585\n",
      "Non-trainable params: 0\n",
      "_________________________________________________________________\n"
     ]
    }
   ],
   "source": [
    "inputs = Input(shape=(28,28,1))\n",
    "\n",
    "# Encoder: CNN\n",
    "x = layers.Conv2D(32, (3,3), activation=\"relu\", padding=\"same\")(inputs)\n",
    "x = layers.MaxPooling2D((2,2))(x)  # (14,14,32)\n",
    "\n",
    "# Treat height as time steps, width*channels as features\n",
    "x = layers.Reshape((14, 14*32))(x)  # (batch, 14, 448)\n",
    "\n",
    "# GRU layer\n",
    "x = layers.GRU(128, return_sequences=True)(x)  # (batch, 14, 128)\n",
    "\n",
    "# Reshape back to 2D grid\n",
    "x = layers.Reshape((14, 16, 8))(x)  # 14*16 ≈ 128 features\n",
    "\n",
    "# Upsample to match input size\n",
    "x = layers.UpSampling2D(size=(2,2))(x)  # (28,32,8)\n",
    "x = layers.Conv2D(16, (3,3), padding=\"same\", activation=\"relu\")(x)  # (28,32,16)\n",
    "x = layers.Conv2D(1, (3,3), padding=\"same\", activation=\"sigmoid\")(x)  # (28,32,1)\n",
    "\n",
    "# Crop width to match exactly 28\n",
    "outputs = layers.Cropping2D(cropping=((0,0),(2,2)))(x)  # (28,28,1)\n",
    "\n",
    "# Compile\n",
    "model = models.Model(inputs, outputs)\n",
    "model.compile(optimizer=\"adam\", loss=\"binary_crossentropy\", metrics=[\"accuracy\"])\n",
    "model.summary()\n"
   ]
  },
  {
   "cell_type": "code",
   "execution_count": 4,
   "id": "45accbf7",
   "metadata": {},
   "outputs": [
    {
     "name": "stdout",
     "output_type": "stream",
     "text": [
      "Epoch 1/5\n",
      "938/938 [==============================] - 75s 28ms/step - loss: 0.0554 - accuracy: 0.9793 - val_loss: 0.0222 - val_accuracy: 0.9908\n",
      "Epoch 2/5\n",
      "938/938 [==============================] - 24s 26ms/step - loss: 0.0196 - accuracy: 0.9919 - val_loss: 0.0175 - val_accuracy: 0.9927\n",
      "Epoch 3/5\n",
      "938/938 [==============================] - 22s 24ms/step - loss: 0.0168 - accuracy: 0.9930 - val_loss: 0.0158 - val_accuracy: 0.9934\n",
      "Epoch 4/5\n",
      "938/938 [==============================] - 22s 24ms/step - loss: 0.0152 - accuracy: 0.9936 - val_loss: 0.0151 - val_accuracy: 0.9937\n",
      "Epoch 5/5\n",
      "938/938 [==============================] - 22s 24ms/step - loss: 0.0142 - accuracy: 0.9940 - val_loss: 0.0138 - val_accuracy: 0.9942\n"
     ]
    }
   ],
   "source": [
    "history = model.fit(\n",
    "    x_train, y_train,\n",
    "    validation_data=(x_test, y_test),\n",
    "    epochs=5,\n",
    "    batch_size=64\n",
    ")"
   ]
  },
  {
   "cell_type": "code",
   "execution_count": 5,
   "id": "d406fac3",
   "metadata": {},
   "outputs": [
    {
     "name": "stdout",
     "output_type": "stream",
     "text": [
      "1/1 [==============================] - 1s 870ms/step\n"
     ]
    },
    {
     "data": {
      "image/png": "[encoded data removed]",
      "text/plain": [
       "<Figure size 640x480 with 15 Axes>"
      ]
     },
     "metadata": {},
     "output_type": "display_data"
    }
   ],
   "source": [
    "# Predict masks on test set\n",
    "preds = model.predict(x_test[:5])\n",
    "\n",
    "# Plot original image, true mask, and predicted mask\n",
    "for i in range(5):\n",
    "    plt.subplot(3,5,i+1)\n",
    "    plt.imshow(x_test[i].squeeze(), cmap=\"gray\")\n",
    "    plt.title(\"Input\")\n",
    "    plt.axis(\"off\")\n",
    "\n",
    "    plt.subplot(3,5,5+i+1)\n",
    "    plt.imshow(y_test[i].squeeze(), cmap=\"gray\")\n",
    "    plt.title(\"True Mask\")\n",
    "    plt.axis(\"off\")\n",
    "\n",
    "    plt.subplot(3,5,10+i+1)\n",
    "    plt.imshow(preds[i].squeeze(), cmap=\"gray\")\n",
    "    plt.title(\"Predicted Mask\")\n",
    "    plt.axis(\"off\")\n",
    "\n",
    "plt.tight_layout()\n",
    "plt.show()\n"
   ]
  },
  {
   "cell_type": "code",
   "execution_count": null,
   "id": "ba27e38f",
   "metadata": {},
   "outputs": [],
   "source": []
  },
  {
   "cell_type": "code",
   "execution_count": null,
   "id": "c253b11c",
   "metadata": {},
   "outputs": [],
   "source": []
  }
 ],
 "metadata": {
  "kernelspec": {
   "display_name": "Python (dl_env)",
   "language": "python",
   "name": "dl_env"
  },
  "language_info": {
   "codemirror_mode": {
    "name": "ipython",
    "version": 3
   },
   "file_extension": ".py",
   "mimetype": "text/x-python",
   "name": "python",
   "nbconvert_exporter": "python",
   "pygments_lexer": "ipython3",
   "version": "3.9.13"
  }
 },
 "nbformat": 4,
 "nbformat_minor": 5
}
