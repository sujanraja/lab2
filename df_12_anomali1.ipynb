{
 "cells": [
  {
   "cell_type": "code",
   "execution_count": 1,
   "id": "36932fe8",
   "metadata": {},
   "outputs": [],
   "source": [
    "import numpy as np\n",
    "import tensorflow as tf\n",
    "from tensorflow.keras.models import Model\n",
    "from tensorflow.keras.layers import Input, Dense\n",
    "from sklearn.datasets import load_breast_cancer\n",
    "from sklearn.preprocessing import StandardScaler\n",
    "from sklearn.model_selection import train_test_split\n",
    "\n",
    "\n"
   ]
  },
  {
   "cell_type": "code",
   "execution_count": 2,
   "id": "4b3c09f3",
   "metadata": {},
   "outputs": [],
   "source": [
    "# 1. Load dataset\n",
    "data = load_breast_cancer()\n",
    "X = data.data\n",
    "y = data.target   # 0 = malignant, 1 = benign\n",
    "\n"
   ]
  },
  {
   "cell_type": "code",
   "execution_count": 3,
   "id": "5e52f939",
   "metadata": {},
   "outputs": [],
   "source": [
    "# 2. Scale data\n",
    "scaler = StandardScaler()\n",
    "X_scaled = scaler.fit_transform(X)\n",
    "\n"
   ]
  },
  {
   "cell_type": "code",
   "execution_count": 4,
   "id": "51512c6a",
   "metadata": {},
   "outputs": [],
   "source": [
    "# 3. Train-test split\n",
    "X_train, X_test, y_train, y_test = train_test_split(\n",
    "    X_scaled, y, test_size=0.2, random_state=42\n",
    ")\n",
    "\n"
   ]
  },
  {
   "cell_type": "code",
   "execution_count": 5,
   "id": "86154081",
   "metadata": {},
   "outputs": [],
   "source": [
    "# Use only \"normal\" data (benign = 1) for training the autoencoder\n",
    "X_train_normal = X_train[y_train == 1]\n",
    "\n"
   ]
  },
  {
   "cell_type": "code",
   "execution_count": 6,
   "id": "3c8f06f2",
   "metadata": {},
   "outputs": [],
   "source": [
    "# 4. Build autoencoder\n",
    "input_dim = X_train_normal.shape[1]\n",
    "encoding_dim = 14  # bottleneck\n",
    "\n",
    "input_layer = Input(shape=(input_dim,))\n",
    "encoder = Dense(encoding_dim, activation=\"relu\")(input_layer)\n",
    "encoder = Dense(7, activation=\"relu\")(encoder)\n",
    "decoder = Dense(encoding_dim, activation=\"relu\")(encoder)\n",
    "decoder = Dense(input_dim, activation=\"linear\")(decoder)\n",
    "\n",
    "autoencoder = Model(inputs=input_layer, outputs=decoder)\n",
    "autoencoder.compile(optimizer=\"adam\", loss=\"mse\")\n",
    "\n"
   ]
  },
  {
   "cell_type": "code",
   "execution_count": 7,
   "id": "eb97762c",
   "metadata": {},
   "outputs": [
    {
     "name": "stdout",
     "output_type": "stream",
     "text": [
      "Epoch 1/50\n",
      "9/9 [==============================] - 4s 44ms/step - loss: 0.7614 - val_loss: 0.8542\n",
      "Epoch 2/50\n",
      "9/9 [==============================] - 0s 16ms/step - loss: 0.7213 - val_loss: 0.8127\n",
      "Epoch 3/50\n",
      "9/9 [==============================] - 0s 14ms/step - loss: 0.6933 - val_loss: 0.7801\n",
      "Epoch 4/50\n",
      "9/9 [==============================] - 0s 13ms/step - loss: 0.6713 - val_loss: 0.7523\n",
      "Epoch 5/50\n",
      "9/9 [==============================] - 0s 14ms/step - loss: 0.6481 - val_loss: 0.7241\n",
      "Epoch 6/50\n",
      "9/9 [==============================] - 0s 15ms/step - loss: 0.6229 - val_loss: 0.6975\n",
      "Epoch 7/50\n",
      "9/9 [==============================] - 0s 14ms/step - loss: 0.5974 - val_loss: 0.6705\n",
      "Epoch 8/50\n",
      "9/9 [==============================] - 0s 13ms/step - loss: 0.5711 - val_loss: 0.6417\n",
      "Epoch 9/50\n",
      "9/9 [==============================] - 0s 14ms/step - loss: 0.5431 - val_loss: 0.6095\n",
      "Epoch 10/50\n",
      "9/9 [==============================] - 0s 14ms/step - loss: 0.5174 - val_loss: 0.5808\n",
      "Epoch 11/50\n",
      "9/9 [==============================] - 0s 13ms/step - loss: 0.4926 - val_loss: 0.5527\n",
      "Epoch 12/50\n",
      "9/9 [==============================] - 0s 14ms/step - loss: 0.4691 - val_loss: 0.5256\n",
      "Epoch 13/50\n",
      "9/9 [==============================] - 0s 14ms/step - loss: 0.4475 - val_loss: 0.5019\n",
      "Epoch 14/50\n",
      "9/9 [==============================] - 0s 12ms/step - loss: 0.4292 - val_loss: 0.4779\n",
      "Epoch 15/50\n",
      "9/9 [==============================] - 0s 13ms/step - loss: 0.4106 - val_loss: 0.4574\n",
      "Epoch 16/50\n",
      "9/9 [==============================] - 0s 13ms/step - loss: 0.3953 - val_loss: 0.4385\n",
      "Epoch 17/50\n",
      "9/9 [==============================] - 0s 13ms/step - loss: 0.3790 - val_loss: 0.4221\n",
      "Epoch 18/50\n",
      "9/9 [==============================] - 0s 14ms/step - loss: 0.3645 - val_loss: 0.4079\n",
      "Epoch 19/50\n",
      "9/9 [==============================] - 0s 13ms/step - loss: 0.3499 - val_loss: 0.3964\n",
      "Epoch 20/50\n",
      "9/9 [==============================] - 0s 17ms/step - loss: 0.3387 - val_loss: 0.3864\n",
      "Epoch 21/50\n",
      "9/9 [==============================] - 0s 11ms/step - loss: 0.3276 - val_loss: 0.3793\n",
      "Epoch 22/50\n",
      "9/9 [==============================] - 0s 14ms/step - loss: 0.3185 - val_loss: 0.3725\n",
      "Epoch 23/50\n",
      "9/9 [==============================] - 0s 15ms/step - loss: 0.3098 - val_loss: 0.3652\n",
      "Epoch 24/50\n",
      "9/9 [==============================] - 0s 16ms/step - loss: 0.3016 - val_loss: 0.3598\n",
      "Epoch 25/50\n",
      "9/9 [==============================] - 0s 13ms/step - loss: 0.2950 - val_loss: 0.3590\n",
      "Epoch 26/50\n",
      "9/9 [==============================] - 0s 15ms/step - loss: 0.2868 - val_loss: 0.3529\n",
      "Epoch 27/50\n",
      "9/9 [==============================] - 0s 13ms/step - loss: 0.2815 - val_loss: 0.3461\n",
      "Epoch 28/50\n",
      "9/9 [==============================] - 0s 15ms/step - loss: 0.2763 - val_loss: 0.3392\n",
      "Epoch 29/50\n",
      "9/9 [==============================] - 0s 13ms/step - loss: 0.2714 - val_loss: 0.3340\n",
      "Epoch 30/50\n",
      "9/9 [==============================] - 0s 13ms/step - loss: 0.2662 - val_loss: 0.3275\n",
      "Epoch 31/50\n",
      "9/9 [==============================] - 0s 14ms/step - loss: 0.2616 - val_loss: 0.3218\n",
      "Epoch 32/50\n",
      "9/9 [==============================] - 0s 14ms/step - loss: 0.2577 - val_loss: 0.3176\n",
      "Epoch 33/50\n",
      "9/9 [==============================] - 0s 13ms/step - loss: 0.2539 - val_loss: 0.3111\n",
      "Epoch 34/50\n",
      "9/9 [==============================] - 0s 15ms/step - loss: 0.2498 - val_loss: 0.3064\n",
      "Epoch 35/50\n",
      "9/9 [==============================] - 0s 14ms/step - loss: 0.2462 - val_loss: 0.3005\n",
      "Epoch 36/50\n",
      "9/9 [==============================] - 0s 19ms/step - loss: 0.2423 - val_loss: 0.2958\n",
      "Epoch 37/50\n",
      "9/9 [==============================] - 0s 13ms/step - loss: 0.2389 - val_loss: 0.2915\n",
      "Epoch 38/50\n",
      "9/9 [==============================] - 0s 14ms/step - loss: 0.2370 - val_loss: 0.2924\n",
      "Epoch 39/50\n",
      "9/9 [==============================] - 0s 14ms/step - loss: 0.2351 - val_loss: 0.2851\n",
      "Epoch 40/50\n",
      "9/9 [==============================] - 0s 13ms/step - loss: 0.2313 - val_loss: 0.2794\n",
      "Epoch 41/50\n",
      "9/9 [==============================] - 0s 13ms/step - loss: 0.2278 - val_loss: 0.2767\n",
      "Epoch 42/50\n",
      "9/9 [==============================] - 0s 14ms/step - loss: 0.2245 - val_loss: 0.2740\n",
      "Epoch 43/50\n",
      "9/9 [==============================] - 0s 14ms/step - loss: 0.2213 - val_loss: 0.2696\n",
      "Epoch 44/50\n",
      "9/9 [==============================] - 0s 13ms/step - loss: 0.2181 - val_loss: 0.2662\n",
      "Epoch 45/50\n",
      "9/9 [==============================] - 0s 13ms/step - loss: 0.2156 - val_loss: 0.2607\n",
      "Epoch 46/50\n",
      "9/9 [==============================] - 0s 13ms/step - loss: 0.2138 - val_loss: 0.2575\n",
      "Epoch 47/50\n",
      "9/9 [==============================] - 0s 12ms/step - loss: 0.2125 - val_loss: 0.2536\n",
      "Epoch 48/50\n",
      "9/9 [==============================] - 0s 12ms/step - loss: 0.2105 - val_loss: 0.2498\n",
      "Epoch 49/50\n",
      "9/9 [==============================] - 0s 12ms/step - loss: 0.2085 - val_loss: 0.2487\n",
      "Epoch 50/50\n",
      "9/9 [==============================] - 0s 13ms/step - loss: 0.2057 - val_loss: 0.2496\n"
     ]
    }
   ],
   "source": [
    "# 5. Train autoencoder only on normal data\n",
    "history = autoencoder.fit(\n",
    "    X_train_normal, X_train_normal,\n",
    "    epochs=50,\n",
    "    batch_size=32,\n",
    "    validation_split=0.1,\n",
    "    verbose=1\n",
    ")\n",
    "\n"
   ]
  },
  {
   "cell_type": "code",
   "execution_count": 8,
   "id": "f64f455c",
   "metadata": {},
   "outputs": [
    {
     "name": "stdout",
     "output_type": "stream",
     "text": [
      "4/4 [==============================] - 0s 3ms/step\n"
     ]
    }
   ],
   "source": [
    "# 6. Reconstruction error for test data\n",
    "X_test_pred = autoencoder.predict(X_test)\n",
    "mse = np.mean(np.power(X_test - X_test_pred, 2), axis=1)\n"
   ]
  },
  {
   "cell_type": "code",
   "execution_count": 9,
   "id": "70c884c8",
   "metadata": {},
   "outputs": [
    {
     "name": "stdout",
     "output_type": "stream",
     "text": [
      "9/9 [==============================] - 0s 4ms/step\n"
     ]
    }
   ],
   "source": [
    "\n",
    "# 7. Set threshold (mean + 2*std of training error)\n",
    "X_train_pred = autoencoder.predict(X_train_normal)\n",
    "train_mse = np.mean(np.power(X_train_normal - X_train_pred, 2), axis=1)\n",
    "threshold = np.mean(train_mse) + 2*np.std(train_mse)\n",
    "\n"
   ]
  },
  {
   "cell_type": "code",
   "execution_count": 10,
   "id": "93703342",
   "metadata": {},
   "outputs": [],
   "source": [
    "# 8. Predictions\n",
    "y_pred = (mse > threshold).astype(int)  # 1 = anomaly (malignant), 0 = normal\n",
    "\n",
    "# Map actual: benign=1(normal)->0 , malignant=0(anomaly)->1\n",
    "y_true = (y_test == 0).astype(int)\n",
    "\n"
   ]
  },
  {
   "cell_type": "code",
   "execution_count": 11,
   "id": "25c64198",
   "metadata": {},
   "outputs": [
    {
     "name": "stdout",
     "output_type": "stream",
     "text": [
      "Threshold: 0.6747283527169304\n",
      "Confusion Matrix:\n",
      " [[69  2]\n",
      " [20 23]]\n",
      "Classification Report:\n",
      "               precision    recall  f1-score   support\n",
      "\n",
      "           0       0.78      0.97      0.86        71\n",
      "           1       0.92      0.53      0.68        43\n",
      "\n",
      "    accuracy                           0.81       114\n",
      "   macro avg       0.85      0.75      0.77       114\n",
      "weighted avg       0.83      0.81      0.79       114\n",
      "\n"
     ]
    }
   ],
   "source": [
    "# 9. Evaluation\n",
    "from sklearn.metrics import classification_report, confusion_matrix\n",
    "\n",
    "print(\"Threshold:\", threshold)\n",
    "print(\"Confusion Matrix:\\n\", confusion_matrix(y_true, y_pred))\n",
    "print(\"Classification Report:\\n\", classification_report(y_true, y_pred))"
   ]
  },
  {
   "cell_type": "code",
   "execution_count": 12,
   "id": "cd0f9fc7",
   "metadata": {},
   "outputs": [
    {
     "name": "stdout",
     "output_type": "stream",
     "text": [
      "Detected anomalies (first 10):\n",
      "    mean radius  mean texture  mean perimeter  mean area  mean smoothness  \\\n",
      "1      1.366877      0.470149        1.302886   1.351264        -0.446227   \n",
      "5      1.838341      2.336457        1.982524   1.735218         1.525767   \n",
      "6      2.238801      0.607446        2.274975   2.352388         0.707364   \n",
      "15     1.412320      1.629029        1.529432   1.356952         1.789079   \n",
      "19     1.824140      0.365431        1.887787   1.857514         0.586383   \n",
      "22     2.125195      0.695875        2.159642   2.139081         1.447485   \n",
      "29     0.872693      1.217138        0.915698   0.780737         0.764297   \n",
      "51     1.278833      1.354435        1.352314   1.231812         0.714481   \n",
      "53    -0.053194     -1.424083       -0.068336  -0.172606         2.023925   \n",
      "57     3.150487      1.307894        3.275896   3.478653         0.707364   \n",
      "\n",
      "    mean compactness  mean concavity  mean concave points  mean symmetry  \\\n",
      "1          -0.027309        0.241064             0.789060      -0.838325   \n",
      "5           3.272144        3.296944             2.658866       2.137194   \n",
      "6           1.725703        1.958584             2.609857       0.045204   \n",
      "15          1.416794        1.317025             2.527316      -0.648476   \n",
      "19          1.318246        1.502839             2.148145       1.151440   \n",
      "22          1.977758        2.413074             2.767200       1.279223   \n",
      "29          1.490705        1.009428             0.787254       0.421251   \n",
      "51          1.598728        1.796625             1.946952       1.355892   \n",
      "53         -0.128699        0.153179             0.444452       0.600147   \n",
      "57          3.073153        3.077232             3.497170       0.063458   \n",
      "\n",
      "    mean fractal dimension  ...  worst area  worst smoothness  \\\n",
      "1                -1.160679  ...    1.732277         -0.572873   \n",
      "5                 1.043695  ...    1.653171          1.430427   \n",
      "6                -0.198126  ...    2.366883         -0.130131   \n",
      "15                1.338557  ...    0.733782          0.299461   \n",
      "19               -0.040772  ...    1.632076         -0.244104   \n",
      "22                0.462478  ...    2.110228          0.781656   \n",
      "29                0.293783  ...    1.407063          1.145493   \n",
      "51               -0.117322  ...    1.387726          0.733436   \n",
      "53                0.251255  ...   -0.399544          0.308228   \n",
      "57                0.711976  ...    2.955784          1.092890   \n",
      "\n",
      "    worst compactness  worst concavity  worst concave points  worst symmetry  \\\n",
      "1           -0.131459        -0.016736              0.978975       -0.565828   \n",
      "5            3.904848         3.197605              2.289985        1.919083   \n",
      "6            0.853922         0.975872              1.958046       -0.258450   \n",
      "15           0.174525        -0.139073              1.058154       -0.954095   \n",
      "19           0.376817         0.820912              1.525610        0.285125   \n",
      "22           2.019330         2.077863              1.942819        1.500078   \n",
      "29           3.086136         1.844223              1.146468        0.666921   \n",
      "51           1.090566         1.636491              1.068812        0.878850   \n",
      "53          -0.749786        -0.557897             -0.199563       -1.198380   \n",
      "57           2.247704         1.801046              2.620403       -0.882913   \n",
      "\n",
      "    worst fractal dimension  Reconstruction_Error  True_Label  Predicted_Label  \n",
      "1                 -1.000578              1.015495           1                1  \n",
      "5                  2.219635              4.027548           1                1  \n",
      "6                  0.099426              2.689565           1                1  \n",
      "15                 0.447992              1.676045           1                1  \n",
      "19                -0.457503              1.381069           1                1  \n",
      "22                 0.928447              2.453869           1                1  \n",
      "29                 2.768252              1.543471           1                1  \n",
      "51                 0.768849              1.520355           1                1  \n",
      "53                -0.632617              0.845387           0                1  \n",
      "57                 1.172276              4.992466           1                1  \n",
      "\n",
      "[10 rows x 33 columns]\n"
     ]
    }
   ],
   "source": [
    "import pandas as pd\n",
    "\n",
    "# Put results into a DataFrame for inspection\n",
    "results = pd.DataFrame(X_test, columns=data.feature_names)\n",
    "results[\"Reconstruction_Error\"] = mse\n",
    "results[\"True_Label\"] = y_true  # 0=normal, 1=anomaly\n",
    "results[\"Predicted_Label\"] = y_pred\n",
    "\n",
    "# Show top anomalies detected\n",
    "anomalies = results[results[\"Predicted_Label\"] == 1]\n",
    "print(\"Detected anomalies (first 10):\")\n",
    "print(anomalies.head(10))\n"
   ]
  },
  {
   "cell_type": "code",
   "execution_count": 13,
   "id": "36467580",
   "metadata": {},
   "outputs": [
    {
     "data": {
      "image/png": "[encoded data removed]",
      "text/plain": [
       "<Figure size 800x500 with 1 Axes>"
      ]
     },
     "metadata": {},
     "output_type": "display_data"
    }
   ],
   "source": [
    "import matplotlib.pyplot as plt\n",
    "\n",
    "plt.figure(figsize=(8,5))\n",
    "plt.hist(mse[y_true == 0], bins=30, alpha=0.6, label=\"Normal\")\n",
    "plt.hist(mse[y_true == 1], bins=30, alpha=0.6, label=\"Anomaly\")\n",
    "plt.axvline(threshold, color='red', linestyle='--', label=\"Threshold\")\n",
    "plt.xlabel(\"Reconstruction error\")\n",
    "plt.ylabel(\"Count\")\n",
    "plt.legend()\n",
    "plt.title(\"Reconstruction Error Distribution\")\n",
    "plt.show()\n"
   ]
  },
  {
   "cell_type": "code",
   "execution_count": null,
   "id": "69d2f4d8",
   "metadata": {},
   "outputs": [],
   "source": []
  }
 ],
 "metadata": {
  "kernelspec": {
   "display_name": "Python (dl_env)",
   "language": "python",
   "name": "dl_env"
  },
  "language_info": {
   "codemirror_mode": {
    "name": "ipython",
    "version": 3
   },
   "file_extension": ".py",
   "mimetype": "text/x-python",
   "name": "python",
   "nbconvert_exporter": "python",
   "pygments_lexer": "ipython3",
   "version": "3.9.13"
  }
 },
 "nbformat": 4,
 "nbformat_minor": 5
}
